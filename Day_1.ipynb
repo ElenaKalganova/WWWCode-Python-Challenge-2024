{
 "cells": [
  {
   "cell_type": "markdown",
   "id": "d6bec0e9-979d-428e-8de2-97169ef6dca8",
   "metadata": {},
   "source": [
    "# Day 1"
   ]
  },
  {
   "cell_type": "markdown",
   "id": "6b4b7fb2-404f-475c-a9ce-ace02e319875",
   "metadata": {},
   "source": [
    "Create a program that swaps the values of two variables."
   ]
  },
  {
   "cell_type": "markdown",
   "id": "b7f202b6-3d1e-4b76-b8dc-6f91aff3fd3b",
   "metadata": {},
   "source": [
    "Using function"
   ]
  },
  {
   "cell_type": "code",
   "execution_count": 44,
   "id": "f5df7f68-50fd-40be-b119-44e049e3880f",
   "metadata": {},
   "outputs": [],
   "source": [
    "def swap_values(val1, val2):\n",
    "    temp=val1\n",
    "    val1=val2\n",
    "    val2=temp\n",
    "    return(val1, val2)\n",
    "    "
   ]
  },
  {
   "cell_type": "code",
   "execution_count": 45,
   "id": "b7e5c494-9e84-46d3-bb80-d7a005314cf7",
   "metadata": {},
   "outputs": [],
   "source": [
    "a='ananas'\n",
    "b='banana'"
   ]
  },
  {
   "cell_type": "code",
   "execution_count": 50,
   "id": "82370e7d-5932-47ea-bff9-c0d0c639f20b",
   "metadata": {},
   "outputs": [
    {
     "name": "stdout",
     "output_type": "stream",
     "text": [
      "Values before the swap: ananas , banana\n",
      "Values after the swap: banana , ananas\n"
     ]
    }
   ],
   "source": [
    "print(\"Values before the swap:\",a,\",\", b)\n",
    "a,b = swap_values(a,b)\n",
    "print(\"Values after the swap:\",a,\",\", b)"
   ]
  },
  {
   "cell_type": "code",
   "execution_count": 43,
   "id": "809c1ca4-0bd2-4b3d-bfe4-ce94d7cc34d9",
   "metadata": {},
   "outputs": [
    {
     "name": "stdout",
     "output_type": "stream",
     "text": [
      "banana\n"
     ]
    }
   ],
   "source": [
    "\n",
    "\n",
    "print(a)"
   ]
  },
  {
   "cell_type": "markdown",
   "id": "8dcdcdc0-1668-4473-9d0a-d8920a5e07e0",
   "metadata": {},
   "source": [
    "Using function that revites the global vaiables"
   ]
  },
  {
   "cell_type": "code",
   "execution_count": 23,
   "id": "573d0b1d-31d9-4769-b53e-f12b254ef93d",
   "metadata": {},
   "outputs": [],
   "source": [
    "def swap_values_global(val1, val2):\n",
    "    print(val1,val2)\n",
    "    temp=val1\n",
    "    val1= val2\n",
    "    val2=temp\n",
    "    print(val1,val2)\n",
    "    return(val1, val2)"
   ]
  },
  {
   "cell_type": "markdown",
   "id": "19813a23-5746-4bee-aa66-ee8bf9ee1e8c",
   "metadata": {},
   "source": [
    "Using tuple packing and sequence unpacking"
   ]
  },
  {
   "cell_type": "code",
   "execution_count": 17,
   "id": "541e01b5-f0a7-4ef1-96dc-876a76373228",
   "metadata": {},
   "outputs": [],
   "source": [
    "a, b = b, a"
   ]
  },
  {
   "cell_type": "code",
   "execution_count": null,
   "id": "4621fd6f-143b-4e05-b531-57ddeb96923a",
   "metadata": {},
   "outputs": [],
   "source": []
  }
 ],
 "metadata": {
  "kernelspec": {
   "display_name": "Python 3 (ipykernel)",
   "language": "python",
   "name": "python3"
  },
  "language_info": {
   "codemirror_mode": {
    "name": "ipython",
    "version": 3
   },
   "file_extension": ".py",
   "mimetype": "text/x-python",
   "name": "python",
   "nbconvert_exporter": "python",
   "pygments_lexer": "ipython3",
   "version": "3.11.5"
  }
 },
 "nbformat": 4,
 "nbformat_minor": 5
}
