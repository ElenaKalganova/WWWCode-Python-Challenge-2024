{
 "cells": [
  {
   "cell_type": "markdown",
   "id": "a72f60bf-789d-453c-a9bd-971f745798f1",
   "metadata": {},
   "source": [
    "# Day 7"
   ]
  },
  {
   "cell_type": "markdown",
   "id": "87fb053c-d914-463d-8fe7-f9cc77fa7946",
   "metadata": {},
   "source": [
    "Write a program to check if a number is positive, negative, or zero."
   ]
  },
  {
   "cell_type": "code",
   "execution_count": 5,
   "id": "3cc1ace4-6fb5-4615-8466-e8107c965ef4",
   "metadata": {},
   "outputs": [],
   "source": [
    "import math"
   ]
  },
  {
   "cell_type": "code",
   "execution_count": 6,
   "id": "c9c9f007-472b-4ed8-a05b-c8c633dda747",
   "metadata": {},
   "outputs": [],
   "source": [
    "def what_is_the_sign(n):\n",
    "    try:\n",
    "        n=float(n)\n",
    "        if math.isnan(n)== True:\n",
    "            print(\"The argument is NaN\")\n",
    "        elif n==0:\n",
    "            print(\"The number is zero\")\n",
    "        elif n<0:\n",
    "            print(\"The number is negative\")\n",
    "        elif n>0:\n",
    "            print(\"The number is positive\")\n",
    "        else:\n",
    "            print(\"Something went wrong...\")\n",
    "    except ValueError:\n",
    "        print(\"The argument is not a valid number\")"
   ]
  },
  {
   "cell_type": "code",
   "execution_count": 11,
   "id": "da666f54-2ad2-49ad-a411-02e3b1b4378d",
   "metadata": {},
   "outputs": [
    {
     "name": "stdout",
     "output_type": "stream",
     "text": [
      "The argument is NaN\n"
     ]
    }
   ],
   "source": [
    "what_is_the_sign('NaN')"
   ]
  },
  {
   "cell_type": "code",
   "execution_count": null,
   "id": "b546c151-3710-4e34-9f4a-b20313e3c6e8",
   "metadata": {},
   "outputs": [],
   "source": []
  }
 ],
 "metadata": {
  "kernelspec": {
   "display_name": "Python 3 (ipykernel)",
   "language": "python",
   "name": "python3"
  },
  "language_info": {
   "codemirror_mode": {
    "name": "ipython",
    "version": 3
   },
   "file_extension": ".py",
   "mimetype": "text/x-python",
   "name": "python",
   "nbconvert_exporter": "python",
   "pygments_lexer": "ipython3",
   "version": "3.11.5"
  }
 },
 "nbformat": 4,
 "nbformat_minor": 5
}
