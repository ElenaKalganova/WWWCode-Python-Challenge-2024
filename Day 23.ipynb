{
 "cells": [
  {
   "cell_type": "markdown",
   "id": "0900a2bb-aaf9-4e87-bffa-0dd20814fd07",
   "metadata": {},
   "source": [
    "# Day 23"
   ]
  },
  {
   "cell_type": "markdown",
   "id": "7ab5a493-22a7-4a32-9022-ac01dfbf0bfe",
   "metadata": {},
   "source": [
    "Write a program that checks if a key exists in a dictionary."
   ]
  },
  {
   "cell_type": "code",
   "execution_count": 13,
   "id": "1a08ca45-7623-46ae-95ce-5de946813a2e",
   "metadata": {},
   "outputs": [],
   "source": [
    "dictionary = {\"a\": 1, \"b\": 2, \"c\": 3}"
   ]
  },
  {
   "cell_type": "code",
   "execution_count": 14,
   "id": "cabbc124-3a8d-4748-8fc3-5a1c9d5ddf03",
   "metadata": {},
   "outputs": [
    {
     "data": {
      "text/plain": [
       "dict"
      ]
     },
     "execution_count": 14,
     "metadata": {},
     "output_type": "execute_result"
    }
   ],
   "source": [
    "type(dictionary)"
   ]
  },
  {
   "cell_type": "code",
   "execution_count": 15,
   "id": "0148de03-e8a7-4952-bdf0-39c4970b68a9",
   "metadata": {},
   "outputs": [],
   "source": [
    "key_to_check_1='d'"
   ]
  },
  {
   "cell_type": "code",
   "execution_count": 16,
   "id": "fa9a802d-df1b-4f81-badd-6cec0d8a6f44",
   "metadata": {},
   "outputs": [
    {
     "data": {
      "text/plain": [
       "False"
      ]
     },
     "execution_count": 16,
     "metadata": {},
     "output_type": "execute_result"
    }
   ],
   "source": [
    "key_to_check_1 in dictionary.keys()"
   ]
  },
  {
   "cell_type": "code",
   "execution_count": 17,
   "id": "2b684b74-c4cc-4365-8115-edbf3dc75fb3",
   "metadata": {},
   "outputs": [],
   "source": [
    "key_to_check_2='a'"
   ]
  },
  {
   "cell_type": "code",
   "execution_count": 18,
   "id": "3e75ba33-58cd-4919-934e-ba0b99406ed5",
   "metadata": {},
   "outputs": [
    {
     "data": {
      "text/plain": [
       "True"
      ]
     },
     "execution_count": 18,
     "metadata": {},
     "output_type": "execute_result"
    }
   ],
   "source": [
    "key_to_check_2 in dictionary.keys()"
   ]
  },
  {
   "cell_type": "code",
   "execution_count": null,
   "id": "efd13a10-562e-4dda-9f3c-dc94cd85fda8",
   "metadata": {},
   "outputs": [],
   "source": []
  }
 ],
 "metadata": {
  "kernelspec": {
   "display_name": "Python 3 (ipykernel)",
   "language": "python",
   "name": "python3"
  },
  "language_info": {
   "codemirror_mode": {
    "name": "ipython",
    "version": 3
   },
   "file_extension": ".py",
   "mimetype": "text/x-python",
   "name": "python",
   "nbconvert_exporter": "python",
   "pygments_lexer": "ipython3",
   "version": "3.11.5"
  }
 },
 "nbformat": 4,
 "nbformat_minor": 5
}
