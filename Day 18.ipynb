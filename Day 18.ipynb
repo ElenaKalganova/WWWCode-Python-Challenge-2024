{
 "cells": [
  {
   "cell_type": "markdown",
   "id": "0312632e-2770-49fb-a277-c90c473fb1cc",
   "metadata": {},
   "source": [
    "# Day 18"
   ]
  },
  {
   "cell_type": "markdown",
   "id": "12f40982-1c1d-4009-84b0-8f0a20a5c34a",
   "metadata": {},
   "source": [
    "Create a program to find the largest among three numbers."
   ]
  },
  {
   "cell_type": "code",
   "execution_count": 16,
   "id": "00e26724-f491-4821-9202-c55737bf4c45",
   "metadata": {},
   "outputs": [],
   "source": [
    "from numpy import random"
   ]
  },
  {
   "cell_type": "code",
   "execution_count": 6,
   "id": "68b7a59a-6f29-4c8d-9c87-5cfbe3c74e90",
   "metadata": {},
   "outputs": [],
   "source": [
    "def largest_number(n1,n2,n3):\n",
    "    largest=max(n1,n2,n3)\n",
    "    return(largest)"
   ]
  },
  {
   "cell_type": "code",
   "execution_count": 39,
   "id": "5f75897c-ee14-4444-bdd8-417bf405e670",
   "metadata": {},
   "outputs": [
    {
     "name": "stdout",
     "output_type": "stream",
     "text": [
      "[ 0.20830179  0.69896452 -0.54662088]\n"
     ]
    }
   ],
   "source": [
    "a = random.normal(0,1,3)\n",
    "print(a)"
   ]
  },
  {
   "cell_type": "code",
   "execution_count": 40,
   "id": "23aa99c1-dc0c-4935-bcc5-03f16bcc19d5",
   "metadata": {},
   "outputs": [
    {
     "data": {
      "text/plain": [
       "0.6989645187984204"
      ]
     },
     "execution_count": 40,
     "metadata": {},
     "output_type": "execute_result"
    }
   ],
   "source": [
    "largest_number(*a)"
   ]
  },
  {
   "cell_type": "code",
   "execution_count": null,
   "id": "a9d783da-cf23-459c-b7e4-46ec71df6f9a",
   "metadata": {},
   "outputs": [],
   "source": []
  }
 ],
 "metadata": {
  "kernelspec": {
   "display_name": "Python 3 (ipykernel)",
   "language": "python",
   "name": "python3"
  },
  "language_info": {
   "codemirror_mode": {
    "name": "ipython",
    "version": 3
   },
   "file_extension": ".py",
   "mimetype": "text/x-python",
   "name": "python",
   "nbconvert_exporter": "python",
   "pygments_lexer": "ipython3",
   "version": "3.11.5"
  }
 },
 "nbformat": 4,
 "nbformat_minor": 5
}
