{
 "cells": [
  {
   "cell_type": "markdown",
   "id": "55f293bf-cd77-4a0c-8a42-4765b6b15728",
   "metadata": {},
   "source": [
    "# Day 3"
   ]
  },
  {
   "cell_type": "markdown",
   "id": "7c9c8b29-29d8-4acc-8dd9-9ce30605b339",
   "metadata": {},
   "source": [
    "Write a program to find the sum of all elements in a list."
   ]
  },
  {
   "cell_type": "code",
   "execution_count": 89,
   "id": "c614ade4-4a9b-4dc5-81f0-124bc3ce02e7",
   "metadata": {},
   "outputs": [],
   "source": [
    "import math\n",
    "import random"
   ]
  },
  {
   "cell_type": "code",
   "execution_count": 111,
   "id": "6846065b-2f37-4ac9-a83f-d2d90742683e",
   "metadata": {},
   "outputs": [],
   "source": [
    "def list_sum(x):\n",
    "    s=0\n",
    "    if type(x)== list:\n",
    "        try:\n",
    "            x=list(map(float, x))\n",
    "            for item in x:\n",
    "                if math.isnan(item)==True:\n",
    "                    print(\"One of the elements in the list is NaN\")\n",
    "                else:\n",
    "                    s=sum(x)\n",
    "        except ValueError:\n",
    "            print(\"Error. The list contains an element that is not a valid number\")\n",
    "    else:\n",
    "        print(\"The argument is not a list\")\n",
    "    return(s)\n",
    "        "
   ]
  },
  {
   "cell_type": "code",
   "execution_count": 112,
   "id": "f91527dc-5c99-4bd6-b266-92a89f124566",
   "metadata": {},
   "outputs": [
    {
     "name": "stdout",
     "output_type": "stream",
     "text": [
      "[62, 80, 42, 32, 90, 72, 59, 4, 20, 40]\n"
     ]
    }
   ],
   "source": [
    "l1=[1,'g',6]\n",
    "l2=random.sample(range(1,99),10)\n",
    "print(l2)"
   ]
  },
  {
   "cell_type": "code",
   "execution_count": 113,
   "id": "bcfe0550-b090-4b30-abbf-16c807b384a8",
   "metadata": {},
   "outputs": [
    {
     "name": "stdout",
     "output_type": "stream",
     "text": [
      "Error. The list contains an element that is not a valid number\n"
     ]
    },
    {
     "data": {
      "text/plain": [
       "0"
      ]
     },
     "execution_count": 113,
     "metadata": {},
     "output_type": "execute_result"
    }
   ],
   "source": [
    "list_sum(l1)"
   ]
  },
  {
   "cell_type": "code",
   "execution_count": 114,
   "id": "e144890c-409a-469f-bce1-2e1aebddae85",
   "metadata": {},
   "outputs": [
    {
     "data": {
      "text/plain": [
       "501.0"
      ]
     },
     "execution_count": 114,
     "metadata": {},
     "output_type": "execute_result"
    }
   ],
   "source": [
    "list_sum(l2)"
   ]
  },
  {
   "cell_type": "code",
   "execution_count": 115,
   "id": "f718486e-9ca6-42e7-ad31-f780a9dfa27b",
   "metadata": {},
   "outputs": [],
   "source": [
    "l3=[float('nan'),7,8]"
   ]
  },
  {
   "cell_type": "code",
   "execution_count": 116,
   "id": "c1bbc3f9-f277-446b-8659-53262d35dc6f",
   "metadata": {},
   "outputs": [
    {
     "name": "stdout",
     "output_type": "stream",
     "text": [
      "One of the elements in the list is NaN\n"
     ]
    },
    {
     "data": {
      "text/plain": [
       "nan"
      ]
     },
     "execution_count": 116,
     "metadata": {},
     "output_type": "execute_result"
    }
   ],
   "source": [
    "list_sum(l3)"
   ]
  },
  {
   "cell_type": "code",
   "execution_count": null,
   "id": "6e0204fb-7a11-4b29-afae-ae740f25c3b4",
   "metadata": {},
   "outputs": [],
   "source": []
  },
  {
   "cell_type": "code",
   "execution_count": null,
   "id": "6a694e2a-c9be-4e3c-8ed3-a00ae5ed598d",
   "metadata": {},
   "outputs": [],
   "source": []
  }
 ],
 "metadata": {
  "kernelspec": {
   "display_name": "Python 3 (ipykernel)",
   "language": "python",
   "name": "python3"
  },
  "language_info": {
   "codemirror_mode": {
    "name": "ipython",
    "version": 3
   },
   "file_extension": ".py",
   "mimetype": "text/x-python",
   "name": "python",
   "nbconvert_exporter": "python",
   "pygments_lexer": "ipython3",
   "version": "3.11.5"
  }
 },
 "nbformat": 4,
 "nbformat_minor": 5
}
