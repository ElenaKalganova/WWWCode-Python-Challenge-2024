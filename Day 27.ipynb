{
 "cells": [
  {
   "cell_type": "markdown",
   "id": "7aa214d1-de55-40c3-ba79-78c5eaba449c",
   "metadata": {},
   "source": [
    "# Day 27"
   ]
  },
  {
   "cell_type": "markdown",
   "id": "ae358e8d-ea10-4c0a-9869-490bdc03b53d",
   "metadata": {},
   "source": [
    "Create a program that sorts a list of strings alphabetically."
   ]
  },
  {
   "cell_type": "code",
   "execution_count": 40,
   "id": "dd034b88-9533-485b-970c-0d580e45190b",
   "metadata": {},
   "outputs": [
    {
     "name": "stdout",
     "output_type": "stream",
     "text": [
      "['Create', 'a', 'program', 'that', 'sorts', 'a', 'list', 'of', 'strings', 'alphabetically.']\n"
     ]
    },
    {
     "data": {
      "text/plain": [
       "['a',\n",
       " 'a',\n",
       " 'alphabetically.',\n",
       " 'Create',\n",
       " 'list',\n",
       " 'of',\n",
       " 'program',\n",
       " 'sorts',\n",
       " 'strings',\n",
       " 'that']"
      ]
     },
     "execution_count": 40,
     "metadata": {},
     "output_type": "execute_result"
    }
   ],
   "source": [
    "txt=\"Create a program that sorts a list of strings alphabetically.\"\n",
    "l1=list(txt.split(\" \"))\n",
    "print(l1)\n",
    "\n",
    "sorted(l1, key= str.lower)"
   ]
  },
  {
   "cell_type": "code",
   "execution_count": null,
   "id": "c3b93af0-a32c-4cdb-83f7-6b426ef89158",
   "metadata": {},
   "outputs": [],
   "source": []
  }
 ],
 "metadata": {
  "kernelspec": {
   "display_name": "Python 3 (ipykernel)",
   "language": "python",
   "name": "python3"
  },
  "language_info": {
   "codemirror_mode": {
    "name": "ipython",
    "version": 3
   },
   "file_extension": ".py",
   "mimetype": "text/x-python",
   "name": "python",
   "nbconvert_exporter": "python",
   "pygments_lexer": "ipython3",
   "version": "3.11.5"
  }
 },
 "nbformat": 4,
 "nbformat_minor": 5
}
