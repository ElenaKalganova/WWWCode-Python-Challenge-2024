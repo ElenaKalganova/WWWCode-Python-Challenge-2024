{
 "cells": [
  {
   "cell_type": "markdown",
   "id": "2c3666b0-0af8-4332-93ff-2722763ce07e",
   "metadata": {},
   "source": [
    "# Day 14"
   ]
  },
  {
   "cell_type": "markdown",
   "id": "e233edba-1188-4565-a773-c70a50ec5a8a",
   "metadata": {},
   "source": [
    "Write a program to print the first n numbers of a Fibonacci sequence"
   ]
  },
  {
   "cell_type": "code",
   "execution_count": 24,
   "id": "94b1d55d-e835-4990-90c7-5fa8d3f34e4d",
   "metadata": {},
   "outputs": [],
   "source": [
    "def fibonacci(n):\n",
    "    if (type(n)==int) & (n>=0):\n",
    "        if n==0:\n",
    "            return(0)\n",
    "        elif n==1:\n",
    "            return(1)\n",
    "        else: \n",
    "            return(fibonacci(n-1)+fibonacci(n-2))\n",
    "    else:\n",
    "        print(\"Error. The argument is not a valid index.\")\n",
    "    \n",
    "        "
   ]
  },
  {
   "cell_type": "code",
   "execution_count": 32,
   "id": "a15c784a-ef6e-4701-a406-bc53f9af1236",
   "metadata": {},
   "outputs": [],
   "source": [
    "def fibonacci_list(n):\n",
    "    if (type(n)==int) & (n>=0):\n",
    "        l=[]\n",
    "        for i in range(n+1):\n",
    "            l.append(fibonacci(i))\n",
    "        return(l)\n",
    "    else:\n",
    "        print(\"The argument is not a valid number\")\n",
    "    "
   ]
  },
  {
   "cell_type": "code",
   "execution_count": 35,
   "id": "550b4012-9ad4-413d-996f-f88facafae48",
   "metadata": {},
   "outputs": [
    {
     "data": {
      "text/plain": [
       "[0, 1, 1, 2, 3, 5, 8, 13, 21, 34, 55, 89, 144, 233, 377, 610, 987]"
      ]
     },
     "execution_count": 35,
     "metadata": {},
     "output_type": "execute_result"
    }
   ],
   "source": [
    "fibonacci_list(16)"
   ]
  }
 ],
 "metadata": {
  "kernelspec": {
   "display_name": "Python 3 (ipykernel)",
   "language": "python",
   "name": "python3"
  },
  "language_info": {
   "codemirror_mode": {
    "name": "ipython",
    "version": 3
   },
   "file_extension": ".py",
   "mimetype": "text/x-python",
   "name": "python",
   "nbconvert_exporter": "python",
   "pygments_lexer": "ipython3",
   "version": "3.11.5"
  }
 },
 "nbformat": 4,
 "nbformat_minor": 5
}
