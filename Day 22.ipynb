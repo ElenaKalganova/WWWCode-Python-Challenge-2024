{
 "cells": [
  {
   "cell_type": "markdown",
   "id": "4f6dfa74-0c4b-4f58-aa94-075080e27bc7",
   "metadata": {},
   "source": [
    "# Day 22"
   ]
  },
  {
   "cell_type": "markdown",
   "id": "b0b9b549-b548-4228-b657-957b3f8e8fd8",
   "metadata": {},
   "source": [
    "Create a program to find the second-largest element in a list."
   ]
  },
  {
   "cell_type": "code",
   "execution_count": 15,
   "id": "3fc5403e-dfbe-4636-b135-3ee25e962425",
   "metadata": {},
   "outputs": [],
   "source": [
    "def second_largest(l):\n",
    "    l_sorted=l;\n",
    "    l_sorted.sort()\n",
    "    return(l_sorted[-2])\n",
    "    "
   ]
  },
  {
   "cell_type": "code",
   "execution_count": 16,
   "id": "c011602e-ee77-45c4-bf54-9b9e7f8a9529",
   "metadata": {},
   "outputs": [
    {
     "data": {
      "text/plain": [
       "56"
      ]
     },
     "execution_count": 16,
     "metadata": {},
     "output_type": "execute_result"
    }
   ],
   "source": [
    "second_largest([1,2,3,56,7,65])"
   ]
  },
  {
   "cell_type": "code",
   "execution_count": 17,
   "id": "3f2c27c9-94b2-4f96-8292-8bc476c18b18",
   "metadata": {},
   "outputs": [],
   "source": [
    "l1=[1,2,3,56,7,65]"
   ]
  }
 ],
 "metadata": {
  "kernelspec": {
   "display_name": "Python 3 (ipykernel)",
   "language": "python",
   "name": "python3"
  },
  "language_info": {
   "codemirror_mode": {
    "name": "ipython",
    "version": 3
   },
   "file_extension": ".py",
   "mimetype": "text/x-python",
   "name": "python",
   "nbconvert_exporter": "python",
   "pygments_lexer": "ipython3",
   "version": "3.11.5"
  }
 },
 "nbformat": 4,
 "nbformat_minor": 5
}
