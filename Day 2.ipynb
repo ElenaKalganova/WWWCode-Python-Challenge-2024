{
 "cells": [
  {
   "cell_type": "markdown",
   "id": "9eee2802-b9b4-4130-91fd-045ff409a711",
   "metadata": {},
   "source": [
    "# Day 2"
   ]
  },
  {
   "cell_type": "markdown",
   "id": "a3e310be-a75c-49b0-8707-9fd159ccbff0",
   "metadata": {},
   "source": [
    "Create a program to calculate the area of a circle based on its radius."
   ]
  },
  {
   "cell_type": "code",
   "execution_count": 1,
   "id": "ba08ad01-1a2e-4b72-a9c4-7b9fe51ee474",
   "metadata": {},
   "outputs": [],
   "source": [
    "import math"
   ]
  },
  {
   "cell_type": "code",
   "execution_count": 2,
   "id": "558a6f6b-9338-47e7-80cc-00c6c3978b1f",
   "metadata": {},
   "outputs": [],
   "source": [
    "def circle_area(radius):\n",
    "    area=math.pi*radius**2\n",
    "    return(area)"
   ]
  },
  {
   "cell_type": "code",
   "execution_count": 3,
   "id": "3361185f-b384-4fa7-93d4-1aa039ff6a8e",
   "metadata": {},
   "outputs": [
    {
     "data": {
      "text/plain": [
       "3.141592653589793"
      ]
     },
     "execution_count": 3,
     "metadata": {},
     "output_type": "execute_result"
    }
   ],
   "source": [
    "circle_area(1)"
   ]
  },
  {
   "cell_type": "code",
   "execution_count": null,
   "id": "39e82aad-5d44-4df2-aabb-45c489d6ba8e",
   "metadata": {},
   "outputs": [],
   "source": []
  }
 ],
 "metadata": {
  "kernelspec": {
   "display_name": "Python 3 (ipykernel)",
   "language": "python",
   "name": "python3"
  },
  "language_info": {
   "codemirror_mode": {
    "name": "ipython",
    "version": 3
   },
   "file_extension": ".py",
   "mimetype": "text/x-python",
   "name": "python",
   "nbconvert_exporter": "python",
   "pygments_lexer": "ipython3",
   "version": "3.11.5"
  }
 },
 "nbformat": 4,
 "nbformat_minor": 5
}
