{
 "cells": [
  {
   "cell_type": "markdown",
   "id": "5fec1362-1620-48c5-983b-f7c1cd0cb0ce",
   "metadata": {},
   "source": [
    "# Day 30"
   ]
  },
  {
   "cell_type": "markdown",
   "id": "81cbb883-4d2f-4f24-844a-b035ea0f34ae",
   "metadata": {},
   "source": [
    "Create a function that finds the second smallest element in a list."
   ]
  },
  {
   "cell_type": "code",
   "execution_count": 30,
   "id": "2090699f-fd0e-4ac1-8ac4-fd7c5e92ddea",
   "metadata": {},
   "outputs": [],
   "source": [
    "import random"
   ]
  },
  {
   "cell_type": "code",
   "execution_count": 31,
   "id": "b7b86147-6288-4359-9155-8b3827d6eeb1",
   "metadata": {},
   "outputs": [],
   "source": [
    "def second_smallest(l):\n",
    "    l_copy=l.copy()\n",
    "    l_copy.remove(min(l_copy))\n",
    "    second_min=min(l_copy)\n",
    "    return(second_min)\n",
    "    \n",
    "        "
   ]
  },
  {
   "cell_type": "code",
   "execution_count": 32,
   "id": "403a06af-1704-4ec4-a6b0-ca82c6ab7c50",
   "metadata": {},
   "outputs": [],
   "source": [
    "l1=random.sample(range(0,99),10)\n",
    "l2=list(range(0,10))"
   ]
  },
  {
   "cell_type": "code",
   "execution_count": 33,
   "id": "02bd9b6e-06f0-44d2-a931-a26055e303f4",
   "metadata": {},
   "outputs": [
    {
     "data": {
      "text/plain": [
       "[39, 84, 21, 87, 74, 59, 82, 71, 77, 79]"
      ]
     },
     "execution_count": 33,
     "metadata": {},
     "output_type": "execute_result"
    }
   ],
   "source": [
    "l1"
   ]
  },
  {
   "cell_type": "code",
   "execution_count": 34,
   "id": "dfb76a7e-4132-45bb-b08e-cf9abb0b66a2",
   "metadata": {},
   "outputs": [
    {
     "data": {
      "text/plain": [
       "[0, 1, 2, 3, 4, 5, 6, 7, 8, 9]"
      ]
     },
     "execution_count": 34,
     "metadata": {},
     "output_type": "execute_result"
    }
   ],
   "source": [
    "l2"
   ]
  },
  {
   "cell_type": "code",
   "execution_count": 36,
   "id": "faf9fc7f-9e6f-4da7-9f5e-f9030ecb72b3",
   "metadata": {},
   "outputs": [
    {
     "data": {
      "text/plain": [
       "39"
      ]
     },
     "execution_count": 36,
     "metadata": {},
     "output_type": "execute_result"
    }
   ],
   "source": [
    "second_smallest(l1)"
   ]
  },
  {
   "cell_type": "code",
   "execution_count": 37,
   "id": "3238be69-7bae-4f4f-a36f-503b15304217",
   "metadata": {},
   "outputs": [
    {
     "data": {
      "text/plain": [
       "1"
      ]
     },
     "execution_count": 37,
     "metadata": {},
     "output_type": "execute_result"
    }
   ],
   "source": [
    "second_smallest(l2)"
   ]
  },
  {
   "cell_type": "code",
   "execution_count": null,
   "id": "19ac91c0-c756-40a5-958b-bd950b7a0f2a",
   "metadata": {},
   "outputs": [],
   "source": []
  }
 ],
 "metadata": {
  "kernelspec": {
   "display_name": "Python 3 (ipykernel)",
   "language": "python",
   "name": "python3"
  },
  "language_info": {
   "codemirror_mode": {
    "name": "ipython",
    "version": 3
   },
   "file_extension": ".py",
   "mimetype": "text/x-python",
   "name": "python",
   "nbconvert_exporter": "python",
   "pygments_lexer": "ipython3",
   "version": "3.11.5"
  }
 },
 "nbformat": 4,
 "nbformat_minor": 5
}
