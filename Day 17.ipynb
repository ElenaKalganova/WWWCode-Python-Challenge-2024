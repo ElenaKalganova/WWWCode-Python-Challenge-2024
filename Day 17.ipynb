{
 "cells": [
  {
   "cell_type": "markdown",
   "id": "40714776-e378-44ca-aae3-642ebdc0286b",
   "metadata": {},
   "source": [
    "# Day 17"
   ]
  },
  {
   "cell_type": "markdown",
   "id": "d7de28fe-ae19-41d2-a1e6-061768cb6e10",
   "metadata": {},
   "source": [
    "Create a program that capitalizes the first letter of each word in a sentence"
   ]
  },
  {
   "cell_type": "code",
   "execution_count": 9,
   "id": "34a290fb-3a13-43b6-84fb-f5289ffce427",
   "metadata": {},
   "outputs": [],
   "source": [
    "txt='Create a program that capitalizes the first letter of each word in a sentence'"
   ]
  },
  {
   "cell_type": "code",
   "execution_count": 10,
   "id": "d8c3e0bb-add9-42ae-acfc-5dd456d0b894",
   "metadata": {},
   "outputs": [
    {
     "data": {
      "text/plain": [
       "'Create A Program That Capitalizes The First Letter Of Each Word In A Sentence'"
      ]
     },
     "execution_count": 10,
     "metadata": {},
     "output_type": "execute_result"
    }
   ],
   "source": [
    "txt.title()"
   ]
  }
 ],
 "metadata": {
  "kernelspec": {
   "display_name": "Python 3 (ipykernel)",
   "language": "python",
   "name": "python3"
  },
  "language_info": {
   "codemirror_mode": {
    "name": "ipython",
    "version": 3
   },
   "file_extension": ".py",
   "mimetype": "text/x-python",
   "name": "python",
   "nbconvert_exporter": "python",
   "pygments_lexer": "ipython3",
   "version": "3.11.5"
  }
 },
 "nbformat": 4,
 "nbformat_minor": 5
}
