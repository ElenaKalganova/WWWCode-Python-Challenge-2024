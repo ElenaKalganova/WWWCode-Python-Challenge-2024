{
 "cells": [
  {
   "cell_type": "markdown",
   "id": "5cadc74a-b281-4a71-bc08-9bf9396faf5b",
   "metadata": {},
   "source": [
    "# Day 25"
   ]
  },
  {
   "cell_type": "markdown",
   "id": "4eaaf8cb-ed9c-4f60-b3d7-06f0f3a89038",
   "metadata": {},
   "source": [
    "Create a program to concatenate two lists."
   ]
  },
  {
   "cell_type": "code",
   "execution_count": 1,
   "id": "f2519964-cbd6-4f2e-95cc-52099cb49d6b",
   "metadata": {},
   "outputs": [],
   "source": [
    "list1=['a','b','c']\n",
    "list2=['d','e','f']"
   ]
  },
  {
   "cell_type": "code",
   "execution_count": 4,
   "id": "ea95edae-4d73-4f5d-8d46-586ec2fe9a59",
   "metadata": {},
   "outputs": [],
   "source": [
    "result=list1+list2"
   ]
  },
  {
   "cell_type": "code",
   "execution_count": 5,
   "id": "76bcc109-feec-4ee0-9606-ec6a776cb4a7",
   "metadata": {},
   "outputs": [
    {
     "name": "stdout",
     "output_type": "stream",
     "text": [
      "['a', 'b', 'c', 'd', 'e', 'f']\n"
     ]
    }
   ],
   "source": [
    "print(result)"
   ]
  },
  {
   "cell_type": "code",
   "execution_count": null,
   "id": "b960640f-5cec-457b-95a6-6675e477b56f",
   "metadata": {},
   "outputs": [],
   "source": []
  }
 ],
 "metadata": {
  "kernelspec": {
   "display_name": "Python 3 (ipykernel)",
   "language": "python",
   "name": "python3"
  },
  "language_info": {
   "codemirror_mode": {
    "name": "ipython",
    "version": 3
   },
   "file_extension": ".py",
   "mimetype": "text/x-python",
   "name": "python",
   "nbconvert_exporter": "python",
   "pygments_lexer": "ipython3",
   "version": "3.11.5"
  }
 },
 "nbformat": 4,
 "nbformat_minor": 5
}
