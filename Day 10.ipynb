{
 "cells": [
  {
   "cell_type": "markdown",
   "id": "3e7da2bc-d6a8-4db8-a862-90f5fcc68dfa",
   "metadata": {
    "editable": true,
    "slideshow": {
     "slide_type": ""
    },
    "tags": []
   },
   "source": [
    "# Day 10"
   ]
  },
  {
   "cell_type": "markdown",
   "id": "d60a0103-82b8-4cb9-9cac-99c0660c89ed",
   "metadata": {},
   "source": [
    "Write a program to remove duplicates from a list."
   ]
  },
  {
   "cell_type": "code",
   "execution_count": 55,
   "id": "9dff7ac4-8c6b-4dbe-bac8-e71bcd8f329c",
   "metadata": {
    "editable": true,
    "slideshow": {
     "slide_type": ""
    },
    "tags": []
   },
   "outputs": [],
   "source": [
    "import random"
   ]
  },
  {
   "cell_type": "code",
   "execution_count": 48,
   "id": "2a721682-2f62-42fd-99d9-0fd3bc08041a",
   "metadata": {
    "editable": true,
    "slideshow": {
     "slide_type": ""
    },
    "tags": []
   },
   "outputs": [],
   "source": [
    "def remove_duplicates(l):\n",
    "    if type(l)==list:\n",
    "        unique_values=[]\n",
    "        for i in l:\n",
    "            if i not in unique_values:\n",
    "                unique_values.append(i)\n",
    "    else:\n",
    "        print(\"The argument in not a list\")\n",
    "    return(unique_values)"
   ]
  },
  {
   "cell_type": "code",
   "execution_count": 68,
   "id": "cc230c8e-70cd-4125-89dd-f5c88bb1961a",
   "metadata": {
    "editable": true,
    "slideshow": {
     "slide_type": ""
    },
    "tags": []
   },
   "outputs": [
    {
     "name": "stdout",
     "output_type": "stream",
     "text": [
      "[1, 1, 2, 3, 7, 1, 10, 10, 1, 3, 6, 3, 6, 5, 1, 3, 9, 4, 4, 8]\n"
     ]
    }
   ],
   "source": [
    "l1=[]\n",
    "for i in range(20):\n",
    "    l1.append(random.randint(1,10))\n",
    "print(l1)\n",
    "            "
   ]
  },
  {
   "cell_type": "code",
   "execution_count": 69,
   "id": "05394457-cc33-423e-a1eb-78cd5ab6feed",
   "metadata": {},
   "outputs": [
    {
     "name": "stdout",
     "output_type": "stream",
     "text": [
      "[1, 2, 3, 7, 10, 6, 5, 9, 4, 8]\n"
     ]
    }
   ],
   "source": [
    "l1=remove_duplicates(l1)\n",
    "print(l1)"
   ]
  },
  {
   "cell_type": "code",
   "execution_count": 52,
   "id": "6096e75a-655d-4330-9a21-b25d5216dc36",
   "metadata": {},
   "outputs": [],
   "source": [
    "l2=list('Write a program to remove duplicates from a list.')"
   ]
  },
  {
   "cell_type": "code",
   "execution_count": 53,
   "id": "a32e57e7-1d92-4629-a4ef-f8a336cb8e3f",
   "metadata": {},
   "outputs": [
    {
     "name": "stdout",
     "output_type": "stream",
     "text": [
      "['W', 'r', 'i', 't', 'e', ' ', 'a', 'p', 'o', 'g', 'm', 'v', 'd', 'u', 'l', 'c', 's', 'f', '.']\n"
     ]
    }
   ],
   "source": [
    "l2=remove_duplicates(l2)\n",
    "print(l2)"
   ]
  }
 ],
 "metadata": {
  "kernelspec": {
   "display_name": "Python 3 (ipykernel)",
   "language": "python",
   "name": "python3"
  },
  "language_info": {
   "codemirror_mode": {
    "name": "ipython",
    "version": 3
   },
   "file_extension": ".py",
   "mimetype": "text/x-python",
   "name": "python",
   "nbconvert_exporter": "python",
   "pygments_lexer": "ipython3",
   "version": "3.11.5"
  }
 },
 "nbformat": 4,
 "nbformat_minor": 5
}
