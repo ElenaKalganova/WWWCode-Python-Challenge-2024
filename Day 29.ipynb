{
 "cells": [
  {
   "cell_type": "markdown",
   "id": "b0801a46-f8d6-49e7-9a70-fd92e4d916f5",
   "metadata": {},
   "source": [
    "# Day 29"
   ]
  },
  {
   "cell_type": "markdown",
   "id": "5e5ec7a3-481d-445e-b0ab-ac7f6d08ffcc",
   "metadata": {},
   "source": [
    "Create a function that generates a random number between a given range."
   ]
  },
  {
   "cell_type": "code",
   "execution_count": 3,
   "id": "29c24e9d-79e7-48e3-95bf-5a3c2d13acbb",
   "metadata": {},
   "outputs": [],
   "source": [
    "import random"
   ]
  },
  {
   "cell_type": "code",
   "execution_count": 18,
   "id": "cc6d84fd-62e6-4ada-90b9-2caa634bb680",
   "metadata": {},
   "outputs": [],
   "source": [
    "top_boundary=1\n",
    "low_boundary=100"
   ]
  },
  {
   "cell_type": "code",
   "execution_count": 27,
   "id": "6d81fc5c-03af-4b2b-8eab-433a4cd55ba3",
   "metadata": {},
   "outputs": [
    {
     "data": {
      "text/plain": [
       "53"
      ]
     },
     "execution_count": 27,
     "metadata": {},
     "output_type": "execute_result"
    }
   ],
   "source": [
    "random.randint(top_boundary,low_boundary)"
   ]
  }
 ],
 "metadata": {
  "kernelspec": {
   "display_name": "Python 3 (ipykernel)",
   "language": "python",
   "name": "python3"
  },
  "language_info": {
   "codemirror_mode": {
    "name": "ipython",
    "version": 3
   },
   "file_extension": ".py",
   "mimetype": "text/x-python",
   "name": "python",
   "nbconvert_exporter": "python",
   "pygments_lexer": "ipython3",
   "version": "3.11.5"
  }
 },
 "nbformat": 4,
 "nbformat_minor": 5
}
