{
 "cells": [
  {
   "cell_type": "markdown",
   "id": "a1c1e177-f5d2-4740-879a-cb94307a406b",
   "metadata": {},
   "source": [
    "# Day 6"
   ]
  },
  {
   "cell_type": "markdown",
   "id": "32c215f2-4a7d-4bc7-af97-3c5947f366a7",
   "metadata": {},
   "source": [
    "Write a program to count the occurrences of a specific character in a string."
   ]
  },
  {
   "cell_type": "code",
   "execution_count": 6,
   "id": "d2b43110-df8e-4172-838b-f9c1457b9ada",
   "metadata": {},
   "outputs": [],
   "source": [
    "def character_count(c, s):\n",
    "    n=0\n",
    "    for i in s:\n",
    "        if i== c:\n",
    "            n+=1\n",
    "    print(\"The character %s appears in the string %s time(s)\" % (c, n))"
   ]
  },
  {
   "cell_type": "code",
   "execution_count": 10,
   "id": "f72a76c6-f035-46c3-9e32-1400a2239827",
   "metadata": {},
   "outputs": [
    {
     "name": "stdout",
     "output_type": "stream",
     "text": [
      "The character W appears in the string 1 times\n"
     ]
    }
   ],
   "source": [
    "character_count('W','Write a program to count the occurrences of a specific character in a string.')"
   ]
  },
  {
   "cell_type": "code",
   "execution_count": null,
   "id": "e7b89f45-8172-4aae-957c-dd8befebfc36",
   "metadata": {},
   "outputs": [],
   "source": []
  }
 ],
 "metadata": {
  "kernelspec": {
   "display_name": "Python 3 (ipykernel)",
   "language": "python",
   "name": "python3"
  },
  "language_info": {
   "codemirror_mode": {
    "name": "ipython",
    "version": 3
   },
   "file_extension": ".py",
   "mimetype": "text/x-python",
   "name": "python",
   "nbconvert_exporter": "python",
   "pygments_lexer": "ipython3",
   "version": "3.11.5"
  }
 },
 "nbformat": 4,
 "nbformat_minor": 5
}
