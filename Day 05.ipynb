{
 "cells": [
  {
   "cell_type": "markdown",
   "id": "01c7e008-1990-4584-b4f6-05a65a5909c6",
   "metadata": {},
   "source": [
    "# Day 5"
   ]
  },
  {
   "cell_type": "markdown",
   "id": "526e68e5-d60e-4aae-8d8f-f3f7bb1bd2e2",
   "metadata": {},
   "source": [
    "Write a program to find the maximum and minimum values in a list."
   ]
  },
  {
   "cell_type": "code",
   "execution_count": 2,
   "id": "e3d545c5-7a0a-4292-89de-afc65c1f7ebf",
   "metadata": {},
   "outputs": [],
   "source": [
    "import math\n",
    "import random"
   ]
  },
  {
   "cell_type": "code",
   "execution_count": 12,
   "id": "2a3c1ce7-a28d-4576-9bbd-2f565eb68f27",
   "metadata": {},
   "outputs": [],
   "source": [
    "def list_span(l):\n",
    "    if type(l)!=list:\n",
    "        print(\"The agument is not a list\")\n",
    "    else:\n",
    "        try:\n",
    "            l=list(map(float, l))\n",
    "            minimum = min(l)\n",
    "            maximum=max(l)\n",
    "        except ValueError:\n",
    "             \"One of the elements in the list is not a valid number\"\n",
    "    return(minimum, maximum)"
   ]
  },
  {
   "cell_type": "code",
   "execution_count": 18,
   "id": "7dbab939-9893-4df2-b025-923913726338",
   "metadata": {},
   "outputs": [
    {
     "name": "stdout",
     "output_type": "stream",
     "text": [
      "[97, 84, 15, 11, 41, 67, 51, 68, 93, 7]\n"
     ]
    }
   ],
   "source": [
    "l1=random.sample(range(0,99),10)\n",
    "print(l1)"
   ]
  },
  {
   "cell_type": "code",
   "execution_count": 19,
   "id": "0c3ade49-779b-4707-8397-60b4d2ba0251",
   "metadata": {},
   "outputs": [
    {
     "data": {
      "text/plain": [
       "(7.0, 97.0)"
      ]
     },
     "execution_count": 19,
     "metadata": {},
     "output_type": "execute_result"
    }
   ],
   "source": [
    "list_span(l1)"
   ]
  }
 ],
 "metadata": {
  "kernelspec": {
   "display_name": "Python 3 (ipykernel)",
   "language": "python",
   "name": "python3"
  },
  "language_info": {
   "codemirror_mode": {
    "name": "ipython",
    "version": 3
   },
   "file_extension": ".py",
   "mimetype": "text/x-python",
   "name": "python",
   "nbconvert_exporter": "python",
   "pygments_lexer": "ipython3",
   "version": "3.11.5"
  }
 },
 "nbformat": 4,
 "nbformat_minor": 5
}
