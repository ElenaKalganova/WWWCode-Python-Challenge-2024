{
 "cells": [
  {
   "cell_type": "markdown",
   "id": "cae2ce2c-6148-4df3-a71e-e684ca0162cd",
   "metadata": {},
   "source": [
    "# Day 12"
   ]
  },
  {
   "cell_type": "markdown",
   "id": "73f57a4e-f132-4f8f-a5f3-66d5713fc5d3",
   "metadata": {},
   "source": [
    "Write a program to reverse a given string."
   ]
  },
  {
   "cell_type": "code",
   "execution_count": 17,
   "id": "fa5de469-e9af-4954-8ec2-fad6fa9c2746",
   "metadata": {},
   "outputs": [],
   "source": [
    "def reverse(s):\n",
    "    if type(s)==str:\n",
    "        reversedS=''.join(list(s)[::-1])\n",
    "        return(reversedS)\n",
    "    else:\n",
    "        print(\"The argument is not a valid string\")\n",
    "    \n",
    "        "
   ]
  },
  {
   "cell_type": "code",
   "execution_count": 18,
   "id": "cf568f20-f050-4167-8e79-ec38b3eeed51",
   "metadata": {},
   "outputs": [
    {
     "data": {
      "text/plain": [
       "'.gnirts nevig a esrever ot margorp a etirW'"
      ]
     },
     "execution_count": 18,
     "metadata": {},
     "output_type": "execute_result"
    }
   ],
   "source": [
    "reverse('Write a program to reverse a given string.')"
   ]
  }
 ],
 "metadata": {
  "kernelspec": {
   "display_name": "Python 3 (ipykernel)",
   "language": "python",
   "name": "python3"
  },
  "language_info": {
   "codemirror_mode": {
    "name": "ipython",
    "version": 3
   },
   "file_extension": ".py",
   "mimetype": "text/x-python",
   "name": "python",
   "nbconvert_exporter": "python",
   "pygments_lexer": "ipython3",
   "version": "3.11.5"
  }
 },
 "nbformat": 4,
 "nbformat_minor": 5
}
