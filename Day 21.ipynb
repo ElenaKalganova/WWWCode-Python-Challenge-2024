{
 "cells": [
  {
   "cell_type": "markdown",
   "id": "8bbd1a5b-8ef7-411e-bfa4-1bb877bd249a",
   "metadata": {},
   "source": [
    "# Day 21"
   ]
  },
  {
   "cell_type": "markdown",
   "id": "fd254abb-8147-42a4-b2f0-a53a227b5ca5",
   "metadata": {},
   "source": [
    "Create a program to remove a specific element from a set."
   ]
  },
  {
   "cell_type": "code",
   "execution_count": 1,
   "id": "a2be981e-2875-4e45-bac2-92e59df7243b",
   "metadata": {},
   "outputs": [],
   "source": [
    "s={1,2,'this one', 3,4}"
   ]
  },
  {
   "cell_type": "code",
   "execution_count": 3,
   "id": "8b8c45ad-829d-432b-adce-f04557e1e8f1",
   "metadata": {},
   "outputs": [],
   "source": [
    "s.remove('this one')"
   ]
  },
  {
   "cell_type": "code",
   "execution_count": 4,
   "id": "c25e1cd9-86ea-4546-a3b1-403517e7f760",
   "metadata": {},
   "outputs": [
    {
     "data": {
      "text/plain": [
       "{1, 2, 3, 4}"
      ]
     },
     "execution_count": 4,
     "metadata": {},
     "output_type": "execute_result"
    }
   ],
   "source": [
    "s"
   ]
  },
  {
   "cell_type": "code",
   "execution_count": null,
   "id": "7e5c55dd-7ac6-4edb-a9c4-7cf604a64f73",
   "metadata": {},
   "outputs": [],
   "source": []
  }
 ],
 "metadata": {
  "kernelspec": {
   "display_name": "Python 3 (ipykernel)",
   "language": "python",
   "name": "python3"
  },
  "language_info": {
   "codemirror_mode": {
    "name": "ipython",
    "version": 3
   },
   "file_extension": ".py",
   "mimetype": "text/x-python",
   "name": "python",
   "nbconvert_exporter": "python",
   "pygments_lexer": "ipython3",
   "version": "3.11.5"
  }
 },
 "nbformat": 4,
 "nbformat_minor": 5
}
