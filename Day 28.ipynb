{
 "cells": [
  {
   "cell_type": "markdown",
   "id": "b3807aa9-4f59-465a-a5a1-0a0d97ce8a3d",
   "metadata": {},
   "source": [
    "# Day 28"
   ]
  },
  {
   "cell_type": "markdown",
   "id": "556f47af-ae72-471d-adae-27b4fc39f90a",
   "metadata": {},
   "source": [
    "Create a program that removes the nth element from a list."
   ]
  },
  {
   "cell_type": "code",
   "execution_count": 71,
   "id": "239ef5e3-2e10-4301-9494-5ed5226995fa",
   "metadata": {},
   "outputs": [],
   "source": [
    "def remove_nth(list, n):\n",
    "    if 0<=n<(len(list)):\n",
    "        list.remove(list[n])\n",
    "    else:\n",
    "        print(\"The argument is out of the list indexes\")"
   ]
  },
  {
   "cell_type": "code",
   "execution_count": 72,
   "id": "f34ee2b9-8fae-4f59-8bd0-6cfcf9886536",
   "metadata": {},
   "outputs": [],
   "source": [
    "txt=\"Create a program that removes the nth element from a list.\"\n",
    "l1=list(txt.split(\" \"))"
   ]
  },
  {
   "cell_type": "code",
   "execution_count": 73,
   "id": "0863f839-ac36-4e96-b836-33cc17e8493c",
   "metadata": {},
   "outputs": [],
   "source": [
    "remove_nth(l1,0)"
   ]
  },
  {
   "cell_type": "code",
   "execution_count": 74,
   "id": "d93dc08a-993f-4cfc-bb82-8fbba2ae8c6b",
   "metadata": {},
   "outputs": [
    {
     "data": {
      "text/plain": [
       "['a',\n",
       " 'program',\n",
       " 'that',\n",
       " 'removes',\n",
       " 'the',\n",
       " 'nth',\n",
       " 'element',\n",
       " 'from',\n",
       " 'a',\n",
       " 'list.']"
      ]
     },
     "execution_count": 74,
     "metadata": {},
     "output_type": "execute_result"
    }
   ],
   "source": [
    "l1"
   ]
  },
  {
   "cell_type": "code",
   "execution_count": null,
   "id": "8db9cb84-40e1-415d-998c-42ab6db354b6",
   "metadata": {},
   "outputs": [],
   "source": []
  }
 ],
 "metadata": {
  "kernelspec": {
   "display_name": "Python 3 (ipykernel)",
   "language": "python",
   "name": "python3"
  },
  "language_info": {
   "codemirror_mode": {
    "name": "ipython",
    "version": 3
   },
   "file_extension": ".py",
   "mimetype": "text/x-python",
   "name": "python",
   "nbconvert_exporter": "python",
   "pygments_lexer": "ipython3",
   "version": "3.11.5"
  }
 },
 "nbformat": 4,
 "nbformat_minor": 5
}
