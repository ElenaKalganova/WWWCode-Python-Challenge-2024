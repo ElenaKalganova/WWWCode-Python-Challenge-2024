{
 "cells": [
  {
   "cell_type": "markdown",
   "id": "3ee0e444-dbce-413c-b3b8-b00a0a4fafad",
   "metadata": {},
   "source": [
    "# Day 8"
   ]
  },
  {
   "cell_type": "markdown",
   "id": "c6c3a962-0c9b-4b28-ad62-e5957dbfdeda",
   "metadata": {},
   "source": [
    "Write a function that accepts a string and calculates the number of uppercase and lowercase letters in it."
   ]
  },
  {
   "cell_type": "code",
   "execution_count": 1,
   "id": "3ef49ba1-6ebb-4495-bd42-b52577020d10",
   "metadata": {},
   "outputs": [],
   "source": [
    "import re"
   ]
  },
  {
   "cell_type": "code",
   "execution_count": 14,
   "id": "c301114f-1477-4e2f-9b0a-c6d23d468fd5",
   "metadata": {},
   "outputs": [],
   "source": [
    "def count_case(str):\n",
    "    lowercase=0\n",
    "    uppercase=0\n",
    "    lowercase=len(re.findall(r'[a-z]',str))\n",
    "    uppercase=len(re.findall(r'[A-Z]',str))\n",
    "    print(f\"There are {lowercase} lowercase and {uppercase} uppercase letters in the string\")\n",
    "    "
   ]
  },
  {
   "cell_type": "code",
   "execution_count": 21,
   "id": "90de84c1-188f-4db1-a18d-70aa40d85909",
   "metadata": {},
   "outputs": [
    {
     "name": "stdin",
     "output_type": "stream",
     "text": [
      "Type a string \n",
      " Write a function that accepts a string and calculates the number of uppercase and lowercase letters in it.\n"
     ]
    },
    {
     "name": "stdout",
     "output_type": "stream",
     "text": [
      "There are 87 lowercase and 1 uppercase letters in the string\n"
     ]
    }
   ],
   "source": [
    "str = input(\"Type a string \\n\")\n",
    "count_case(str)"
   ]
  },
  {
   "cell_type": "code",
   "execution_count": null,
   "id": "13e267fb-91ad-4951-b0a1-6274e1ddca3c",
   "metadata": {},
   "outputs": [],
   "source": []
  }
 ],
 "metadata": {
  "kernelspec": {
   "display_name": "Python 3 (ipykernel)",
   "language": "python",
   "name": "python3"
  },
  "language_info": {
   "codemirror_mode": {
    "name": "ipython",
    "version": 3
   },
   "file_extension": ".py",
   "mimetype": "text/x-python",
   "name": "python",
   "nbconvert_exporter": "python",
   "pygments_lexer": "ipython3",
   "version": "3.11.5"
  }
 },
 "nbformat": 4,
 "nbformat_minor": 5
}
