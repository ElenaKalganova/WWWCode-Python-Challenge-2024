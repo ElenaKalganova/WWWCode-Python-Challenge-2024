{
 "cells": [
  {
   "cell_type": "markdown",
   "id": "82cf696a-7465-46a1-8b26-befd4d98583f",
   "metadata": {},
   "source": [
    "# Day 26"
   ]
  },
  {
   "cell_type": "markdown",
   "id": "dec82a26-85b2-4de2-b0a6-11fd4e5a0a84",
   "metadata": {},
   "source": [
    "Create a program that uses a lambda function to square each element of a list."
   ]
  },
  {
   "cell_type": "code",
   "execution_count": 1,
   "id": "ca7eac66-29fc-40a7-8831-e22b63d54824",
   "metadata": {},
   "outputs": [],
   "source": [
    "l1=[1,2,3,4]"
   ]
  },
  {
   "cell_type": "code",
   "execution_count": 10,
   "id": "e996b3c7-1a72-4609-b0b5-b72ed04e5873",
   "metadata": {},
   "outputs": [],
   "source": [
    "l2=list(map(lambda x: x**2, l1))"
   ]
  },
  {
   "cell_type": "code",
   "execution_count": 11,
   "id": "58bf6617-0ee6-4fe2-a2fe-1d086a7129ab",
   "metadata": {},
   "outputs": [
    {
     "data": {
      "text/plain": [
       "[1, 4, 9, 16]"
      ]
     },
     "execution_count": 11,
     "metadata": {},
     "output_type": "execute_result"
    }
   ],
   "source": [
    "l2"
   ]
  },
  {
   "cell_type": "code",
   "execution_count": null,
   "id": "6e779e23-0c50-4606-b49f-b555ce706c4d",
   "metadata": {},
   "outputs": [],
   "source": []
  }
 ],
 "metadata": {
  "kernelspec": {
   "display_name": "Python 3 (ipykernel)",
   "language": "python",
   "name": "python3"
  },
  "language_info": {
   "codemirror_mode": {
    "name": "ipython",
    "version": 3
   },
   "file_extension": ".py",
   "mimetype": "text/x-python",
   "name": "python",
   "nbconvert_exporter": "python",
   "pygments_lexer": "ipython3",
   "version": "3.11.5"
  }
 },
 "nbformat": 4,
 "nbformat_minor": 5
}
