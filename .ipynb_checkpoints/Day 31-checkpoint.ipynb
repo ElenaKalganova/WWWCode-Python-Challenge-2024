{
 "cells": [
  {
   "cell_type": "markdown",
   "id": "b141f90e-ba10-4481-a1f1-cb13a4d76d33",
   "metadata": {},
   "source": [
    "# Day 31"
   ]
  },
  {
   "cell_type": "markdown",
   "id": "62301880-ce06-4ceb-99b7-b595c9ff45f0",
   "metadata": {},
   "source": [
    "Create a program that checks if a given string is a valid email address."
   ]
  },
  {
   "cell_type": "code",
   "execution_count": 4,
   "id": "eca02236-52e1-47e1-a6da-3c9b29793f9c",
   "metadata": {},
   "outputs": [],
   "source": [
    "def check_email(email):\n",
    "    if \"@\" in email:\n",
    "        return(True)\n",
    "    else:\n",
    "        return(False)"
   ]
  },
  {
   "cell_type": "code",
   "execution_count": null,
   "id": "f2579624-d620-4e41-abf6-e4e43bc53c1e",
   "metadata": {},
   "outputs": [],
   "source": []
  }
 ],
 "metadata": {
  "kernelspec": {
   "display_name": "Python 3 (ipykernel)",
   "language": "python",
   "name": "python3"
  },
  "language_info": {
   "codemirror_mode": {
    "name": "ipython",
    "version": 3
   },
   "file_extension": ".py",
   "mimetype": "text/x-python",
   "name": "python",
   "nbconvert_exporter": "python",
   "pygments_lexer": "ipython3",
   "version": "3.11.5"
  }
 },
 "nbformat": 4,
 "nbformat_minor": 5
}
