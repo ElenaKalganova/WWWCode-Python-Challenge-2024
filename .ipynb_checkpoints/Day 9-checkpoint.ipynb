{
 "cells": [
  {
   "cell_type": "markdown",
   "id": "5691a3f1-c4ec-47aa-836e-92bce2055d4f",
   "metadata": {},
   "source": [
    "# Day 9"
   ]
  },
  {
   "cell_type": "markdown",
   "id": "598f49bf-3422-4fb1-87e7-ad28eb5112ab",
   "metadata": {},
   "source": [
    "Write a program to check if a number is even or odd."
   ]
  },
  {
   "cell_type": "code",
   "execution_count": 10,
   "id": "983b4bb9-8138-4402-a8f8-89db86a0dbce",
   "metadata": {},
   "outputs": [],
   "source": [
    "def parity(number):\n",
    "    if type(number)==int:\n",
    "        if number%2==0:\n",
    "            print(\"The number is even\")\n",
    "        else:\n",
    "            print(\"The number is odd\")\n",
    "    else:\n",
    "        print(\"The parameter is not an integer number\")"
   ]
  },
  {
   "cell_type": "code",
   "execution_count": 14,
   "id": "064659d2-5fec-443b-a938-69e396c1dacd",
   "metadata": {},
   "outputs": [
    {
     "name": "stdout",
     "output_type": "stream",
     "text": [
      "The number is odd\n"
     ]
    }
   ],
   "source": [
    "parity(9)"
   ]
  },
  {
   "cell_type": "code",
   "execution_count": null,
   "id": "78fee26b-4b4c-4d34-9ddb-069a6ffae08d",
   "metadata": {},
   "outputs": [],
   "source": []
  }
 ],
 "metadata": {
  "kernelspec": {
   "display_name": "Python 3 (ipykernel)",
   "language": "python",
   "name": "python3"
  },
  "language_info": {
   "codemirror_mode": {
    "name": "ipython",
    "version": 3
   },
   "file_extension": ".py",
   "mimetype": "text/x-python",
   "name": "python",
   "nbconvert_exporter": "python",
   "pygments_lexer": "ipython3",
   "version": "3.11.5"
  }
 },
 "nbformat": 4,
 "nbformat_minor": 5
}
