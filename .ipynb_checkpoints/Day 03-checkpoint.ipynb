{
 "cells": [
  {
   "cell_type": "markdown",
   "id": "a4ebf741-2df9-4794-a9af-bb4828d0e086",
   "metadata": {},
   "source": [
    "# Day 3"
   ]
  },
  {
   "cell_type": "markdown",
   "id": "74d50699-157a-4aba-81a0-eb758edb8687",
   "metadata": {},
   "source": [
    "Write a function to count the number of vowels in a given string"
   ]
  },
  {
   "cell_type": "code",
   "execution_count": 2,
   "id": "3e8bd23b-87cf-4aa1-8a9d-a9860f5b6015",
   "metadata": {},
   "outputs": [],
   "source": [
    "vowels={\"a\", \"e\", \"i\", \"o\", \"u\"}\n"
   ]
  },
  {
   "cell_type": "code",
   "execution_count": 24,
   "id": "40b33e96-3f17-4a2e-8155-aa4f973d3136",
   "metadata": {},
   "outputs": [],
   "source": [
    "def count_vowels(string):\n",
    "    i=0\n",
    "    string=str(string).lower()\n",
    "    for character in string:\n",
    "        if character in vowels:\n",
    "            i+=1\n",
    "    print(\"Number of vowels in the string is: \", i)\n",
    "    # print(string)"
   ]
  },
  {
   "cell_type": "code",
   "execution_count": 33,
   "id": "d7e90cda-41e6-4f4c-962f-8da7b17dc80a",
   "metadata": {},
   "outputs": [
    {
     "name": "stdout",
     "output_type": "stream",
     "text": [
      "Number of vowels in the string is:  20\n"
     ]
    }
   ],
   "source": [
    "count_vowels('Write a function to count the number of vowels in a given string')"
   ]
  },
  {
   "cell_type": "code",
   "execution_count": null,
   "id": "de64c6d0-f5da-4870-8feb-62fb0404c851",
   "metadata": {},
   "outputs": [],
   "source": []
  }
 ],
 "metadata": {
  "kernelspec": {
   "display_name": "Python 3 (ipykernel)",
   "language": "python",
   "name": "python3"
  },
  "language_info": {
   "codemirror_mode": {
    "name": "ipython",
    "version": 3
   },
   "file_extension": ".py",
   "mimetype": "text/x-python",
   "name": "python",
   "nbconvert_exporter": "python",
   "pygments_lexer": "ipython3",
   "version": "3.11.5"
  }
 },
 "nbformat": 4,
 "nbformat_minor": 5
}
