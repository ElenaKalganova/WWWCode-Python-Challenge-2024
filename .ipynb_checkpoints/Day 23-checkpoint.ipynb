{
 "cells": [
  {
   "cell_type": "markdown",
   "id": "0900a2bb-aaf9-4e87-bffa-0dd20814fd07",
   "metadata": {},
   "source": [
    "# Day 23"
   ]
  },
  {
   "cell_type": "markdown",
   "id": "7ab5a493-22a7-4a32-9022-ac01dfbf0bfe",
   "metadata": {},
   "source": [
    "Write a program that checks if a key exists in a dictionary."
   ]
  },
  {
   "cell_type": "code",
   "execution_count": 23,
   "id": "f0fe40fe-130e-4f66-b7c6-b256e2751e22",
   "metadata": {},
   "outputs": [],
   "source": [
    "def check_key(dict, key):\n",
    "    return key in dict"
   ]
  },
  {
   "cell_type": "code",
   "execution_count": 24,
   "id": "1a08ca45-7623-46ae-95ce-5de946813a2e",
   "metadata": {},
   "outputs": [],
   "source": [
    "dictionary = {\"a\": 1, \"b\": 2, \"c\": 3}"
   ]
  },
  {
   "cell_type": "code",
   "execution_count": 25,
   "id": "0148de03-e8a7-4952-bdf0-39c4970b68a9",
   "metadata": {},
   "outputs": [],
   "source": [
    "key_to_check_1='d'"
   ]
  },
  {
   "cell_type": "code",
   "execution_count": 26,
   "id": "2b684b74-c4cc-4365-8115-edbf3dc75fb3",
   "metadata": {},
   "outputs": [],
   "source": [
    "key_to_check_2='a'"
   ]
  },
  {
   "cell_type": "code",
   "execution_count": 27,
   "id": "a5232a42-582e-4d45-bdd4-7d6161d8a26e",
   "metadata": {},
   "outputs": [
    {
     "data": {
      "text/plain": [
       "False"
      ]
     },
     "execution_count": 27,
     "metadata": {},
     "output_type": "execute_result"
    }
   ],
   "source": [
    "check_key(dictionary, key_to_check_1)"
   ]
  },
  {
   "cell_type": "code",
   "execution_count": 28,
   "id": "5f1dc8fe-e62a-44aa-b0f8-4bcb715f8ca3",
   "metadata": {},
   "outputs": [
    {
     "data": {
      "text/plain": [
       "True"
      ]
     },
     "execution_count": 28,
     "metadata": {},
     "output_type": "execute_result"
    }
   ],
   "source": [
    "check_key(dictionary, key_to_check_2)"
   ]
  },
  {
   "cell_type": "code",
   "execution_count": null,
   "id": "b4e4c326-c9be-4702-97db-03c7051e13e0",
   "metadata": {},
   "outputs": [],
   "source": []
  }
 ],
 "metadata": {
  "kernelspec": {
   "display_name": "Python 3 (ipykernel)",
   "language": "python",
   "name": "python3"
  },
  "language_info": {
   "codemirror_mode": {
    "name": "ipython",
    "version": 3
   },
   "file_extension": ".py",
   "mimetype": "text/x-python",
   "name": "python",
   "nbconvert_exporter": "python",
   "pygments_lexer": "ipython3",
   "version": "3.11.5"
  }
 },
 "nbformat": 4,
 "nbformat_minor": 5
}
