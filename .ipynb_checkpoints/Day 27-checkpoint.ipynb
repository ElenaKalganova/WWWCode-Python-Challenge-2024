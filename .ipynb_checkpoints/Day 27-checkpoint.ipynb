{
 "cells": [
  {
   "cell_type": "markdown",
   "id": "7aa214d1-de55-40c3-ba79-78c5eaba449c",
   "metadata": {},
   "source": [
    "# Day 27"
   ]
  },
  {
   "cell_type": "markdown",
   "id": "ae358e8d-ea10-4c0a-9869-490bdc03b53d",
   "metadata": {},
   "source": [
    "Create a program that sorts a list of strings alphabetically."
   ]
  },
  {
   "cell_type": "code",
   "execution_count": 36,
   "id": "dd034b88-9533-485b-970c-0d580e45190b",
   "metadata": {},
   "outputs": [
    {
     "name": "stdout",
     "output_type": "stream",
     "text": [
      "['create', 'a', 'program', 'that', 'sorts', 'a', 'list', 'of', 'strings', 'alphabetically.']\n",
      "['a', 'a', 'alphabetically.', 'create', 'list', 'of', 'program', 'sorts', 'strings', 'that']\n"
     ]
    }
   ],
   "source": [
    "txt=\"Create a program that sorts a list of strings alphabetically.\"\n",
    "l1=list(txt.lower().split(\" \"))\n",
    "print(l1)\n",
    "l1.sort()\n",
    "print(l1)"
   ]
  },
  {
   "cell_type": "code",
   "execution_count": null,
   "id": "6105f75e-10d0-46b9-91ce-eb508481f8f5",
   "metadata": {},
   "outputs": [],
   "source": []
  }
 ],
 "metadata": {
  "kernelspec": {
   "display_name": "Python 3 (ipykernel)",
   "language": "python",
   "name": "python3"
  },
  "language_info": {
   "codemirror_mode": {
    "name": "ipython",
    "version": 3
   },
   "file_extension": ".py",
   "mimetype": "text/x-python",
   "name": "python",
   "nbconvert_exporter": "python",
   "pygments_lexer": "ipython3",
   "version": "3.11.5"
  }
 },
 "nbformat": 4,
 "nbformat_minor": 5
}
