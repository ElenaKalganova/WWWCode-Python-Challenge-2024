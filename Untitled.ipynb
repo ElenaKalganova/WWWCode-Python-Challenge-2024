{
 "cells": [
  {
   "cell_type": "markdown",
   "id": "0635457a-6aca-4f40-a935-59b669ee1c67",
   "metadata": {},
   "source": [
    "# Day 11"
   ]
  },
  {
   "cell_type": "markdown",
   "id": "1544d762-16f2-4ff4-a8ef-466c10cc9c31",
   "metadata": {},
   "source": [
    "Write a program to print the multiplication table of a given number."
   ]
  },
  {
   "cell_type": "code",
   "execution_count": 40,
   "id": "208a607e-f9f7-4c37-a00a-a5bb6c90bfef",
   "metadata": {},
   "outputs": [],
   "source": [
    "def multiplication_table():\n",
    "    number = None\n",
    "    while number is None:\n",
    "        try:\n",
    "            number = int(input(\"Please enter an integer: \"))\n",
    "        except ValueError:\n",
    "            print(\"The input is not a valid integer\")\n",
    "    print(\"\\033[1mMultiplication Table for %s: \\033[0m \"%number, \"\\n\" )\n",
    "    for i in range(1, 11):\n",
    "        print(\"%s x %i = %s\" %(number, i, i*number ))\n",
    "        \n"
   ]
  },
  {
   "cell_type": "code",
   "execution_count": 41,
   "id": "968049a3-a733-4983-a838-29629ad31396",
   "metadata": {},
   "outputs": [
    {
     "name": "stdin",
     "output_type": "stream",
     "text": [
      "Please enter an integer:  4\n"
     ]
    },
    {
     "name": "stdout",
     "output_type": "stream",
     "text": [
      "\u001b[1mMultiplication Table for 4: \u001b[0m  \n",
      "\n",
      "4 x 1 = 4\n",
      "4 x 2 = 8\n",
      "4 x 3 = 12\n",
      "4 x 4 = 16\n",
      "4 x 5 = 20\n",
      "4 x 6 = 24\n",
      "4 x 7 = 28\n",
      "4 x 8 = 32\n",
      "4 x 9 = 36\n",
      "4 x 10 = 40\n"
     ]
    }
   ],
   "source": [
    "multiplication_table()"
   ]
  }
 ],
 "metadata": {
  "kernelspec": {
   "display_name": "Python 3 (ipykernel)",
   "language": "python",
   "name": "python3"
  },
  "language_info": {
   "codemirror_mode": {
    "name": "ipython",
    "version": 3
   },
   "file_extension": ".py",
   "mimetype": "text/x-python",
   "name": "python",
   "nbconvert_exporter": "python",
   "pygments_lexer": "ipython3",
   "version": "3.11.5"
  }
 },
 "nbformat": 4,
 "nbformat_minor": 5
}
