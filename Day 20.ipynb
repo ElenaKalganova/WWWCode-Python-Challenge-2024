{
 "cells": [
  {
   "cell_type": "markdown",
   "id": "61184915-013b-4f46-9680-f4f26efd317b",
   "metadata": {},
   "source": [
    "# Day 20"
   ]
  },
  {
   "cell_type": "markdown",
   "id": "7aa2c916-a96c-4737-b396-4c8f2609da64",
   "metadata": {},
   "source": [
    "Write a function that takes a list of numbers and returns a new list containing only the even numbers."
   ]
  },
  {
   "cell_type": "code",
   "execution_count": 5,
   "id": "3b2648af-9b07-4d0d-aa4c-8eaafca1f457",
   "metadata": {},
   "outputs": [],
   "source": [
    "def pick_even(l):\n",
    "    for n in l:\n",
    "        if n%2!=0:\n",
    "            l.remove(n)\n",
    "    return(l)"
   ]
  },
  {
   "cell_type": "code",
   "execution_count": 7,
   "id": "ef248043-2874-4d30-b192-f16f0cc47cf5",
   "metadata": {},
   "outputs": [
    {
     "name": "stdout",
     "output_type": "stream",
     "text": [
      "[0, 2, 4]\n"
     ]
    }
   ],
   "source": [
    "print(pick_even([0,1,2,3,4,5]))"
   ]
  },
  {
   "cell_type": "code",
   "execution_count": 15,
   "id": "7a779aee-94a3-43a0-8212-5c0a625df4ff",
   "metadata": {},
   "outputs": [],
   "source": [
    "l1=list(range(0,16))"
   ]
  },
  {
   "cell_type": "code",
   "execution_count": 16,
   "id": "2cdd6cba-d4e8-4b6b-9829-fda15e009bbd",
   "metadata": {},
   "outputs": [
    {
     "name": "stdout",
     "output_type": "stream",
     "text": [
      "[0, 1, 2, 3, 4, 5, 6, 7, 8, 9, 10, 11, 12, 13, 14, 15]\n",
      "[0, 2, 4, 6, 8, 10, 12, 14]\n"
     ]
    }
   ],
   "source": [
    "print(l1)\n",
    "print(pick_even(l1))"
   ]
  },
  {
   "cell_type": "code",
   "execution_count": null,
   "id": "288d84eb-8261-4352-bc6a-dcc9858d9ce1",
   "metadata": {},
   "outputs": [],
   "source": []
  }
 ],
 "metadata": {
  "kernelspec": {
   "display_name": "Python 3 (ipykernel)",
   "language": "python",
   "name": "python3"
  },
  "language_info": {
   "codemirror_mode": {
    "name": "ipython",
    "version": 3
   },
   "file_extension": ".py",
   "mimetype": "text/x-python",
   "name": "python",
   "nbconvert_exporter": "python",
   "pygments_lexer": "ipython3",
   "version": "3.11.5"
  }
 },
 "nbformat": 4,
 "nbformat_minor": 5
}
