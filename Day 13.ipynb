{
 "cells": [
  {
   "cell_type": "markdown",
   "id": "5cf9af6e-fdcc-4c4f-a024-7a5d8d35d7eb",
   "metadata": {},
   "source": [
    "# Day 13"
   ]
  },
  {
   "cell_type": "markdown",
   "id": "2b4545e6-a16d-4be9-b973-7554fd01af03",
   "metadata": {},
   "source": [
    "Write a program to shuffle the elements of a list randomly."
   ]
  },
  {
   "cell_type": "code",
   "execution_count": 4,
   "id": "8a3a6244-fd14-43d1-bf02-fe1f6cb33176",
   "metadata": {},
   "outputs": [],
   "source": [
    "import random"
   ]
  },
  {
   "cell_type": "code",
   "execution_count": 13,
   "id": "9c410e05-bfc2-41cd-891c-ddb0307cd039",
   "metadata": {},
   "outputs": [],
   "source": [
    "def shuffle_list(l):\n",
    "    if type(l)==list:\n",
    "        random.shuffle(l)\n",
    "        print(l)\n",
    "    else:\n",
    "        print(\"The argument is not a valid list\")"
   ]
  },
  {
   "cell_type": "code",
   "execution_count": 14,
   "id": "cc0fb6d6-aa1a-4583-ad04-2edfd088dca2",
   "metadata": {},
   "outputs": [],
   "source": [
    "l1=list(range(10))"
   ]
  },
  {
   "cell_type": "code",
   "execution_count": 15,
   "id": "da60b80e-0be6-4a9f-92a0-3a657e9baa8b",
   "metadata": {},
   "outputs": [],
   "source": [
    "random.shuffle(l1)"
   ]
  },
  {
   "cell_type": "code",
   "execution_count": null,
   "id": "95995221-4be4-43b9-a4c7-6bc6eeb9fe19",
   "metadata": {},
   "outputs": [],
   "source": []
  }
 ],
 "metadata": {
  "kernelspec": {
   "display_name": "Python 3 (ipykernel)",
   "language": "python",
   "name": "python3"
  },
  "language_info": {
   "codemirror_mode": {
    "name": "ipython",
    "version": 3
   },
   "file_extension": ".py",
   "mimetype": "text/x-python",
   "name": "python",
   "nbconvert_exporter": "python",
   "pygments_lexer": "ipython3",
   "version": "3.11.5"
  }
 },
 "nbformat": 4,
 "nbformat_minor": 5
}
