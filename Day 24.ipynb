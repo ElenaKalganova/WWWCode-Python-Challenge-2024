{
 "cells": [
  {
   "cell_type": "markdown",
   "id": "5278d852-45aa-4c2e-8779-9b2aebf1636b",
   "metadata": {},
   "source": [
    "# Day 24"
   ]
  },
  {
   "cell_type": "markdown",
   "id": "725beff7-897c-45bd-a066-e0d9c9272dbf",
   "metadata": {},
   "source": [
    "Write a program to remove vowels from a given string."
   ]
  },
  {
   "cell_type": "code",
   "execution_count": 1,
   "id": "f8ec2322-4945-49e7-8ede-30b9b3aee8f8",
   "metadata": {},
   "outputs": [],
   "source": [
    "import re "
   ]
  },
  {
   "cell_type": "code",
   "execution_count": 25,
   "id": "24c46474-6a42-4036-879b-cc4540528b54",
   "metadata": {},
   "outputs": [],
   "source": [
    "pattern='[oaeiuAOUEI]'\n",
    "string='Write a program to remove vowels from a given string.'"
   ]
  },
  {
   "cell_type": "code",
   "execution_count": 26,
   "id": "f753da1c-5878-4e82-9228-b49b92439512",
   "metadata": {},
   "outputs": [],
   "source": [
    "result = re.sub(pattern, '', string)"
   ]
  },
  {
   "cell_type": "code",
   "execution_count": 27,
   "id": "c237d865-ff0a-43ac-a7b2-106ce06d3b40",
   "metadata": {},
   "outputs": [
    {
     "name": "stdout",
     "output_type": "stream",
     "text": [
      "Wrt  prgrm t rmv vwls frm  gvn strng.\n"
     ]
    }
   ],
   "source": [
    "print(result)"
   ]
  }
 ],
 "metadata": {
  "kernelspec": {
   "display_name": "Python 3 (ipykernel)",
   "language": "python",
   "name": "python3"
  },
  "language_info": {
   "codemirror_mode": {
    "name": "ipython",
    "version": 3
   },
   "file_extension": ".py",
   "mimetype": "text/x-python",
   "name": "python",
   "nbconvert_exporter": "python",
   "pygments_lexer": "ipython3",
   "version": "3.11.5"
  }
 },
 "nbformat": 4,
 "nbformat_minor": 5
}
