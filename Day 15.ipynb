{
 "cells": [
  {
   "cell_type": "markdown",
   "id": "e6e499ac-0120-47af-8643-22e5419741cc",
   "metadata": {},
   "source": [
    "# Day 15"
   ]
  },
  {
   "cell_type": "markdown",
   "id": "510915bb-dc8b-47c8-b4b6-df35b1a9b29c",
   "metadata": {},
   "source": [
    "Create a program that checks if a year is a leap year."
   ]
  },
  {
   "cell_type": "markdown",
   "id": "b6d8a894-912f-49df-bd08-5ce54ad5c970",
   "metadata": {},
   "source": [
    "What is a leap year? To be a leap year, the year number must be divisible by four – except for end-of-century years, which must be divisible by 400. "
   ]
  },
  {
   "cell_type": "code",
   "execution_count": 6,
   "id": "e00009c9-2c92-407f-8a13-8cf513deaa86",
   "metadata": {},
   "outputs": [],
   "source": [
    "def leap_year_caheck(year):\n",
    "    leap=False\n",
    "    if type(year)==int:\n",
    "        if year%4 == 0:\n",
    "            if year%100==0:\n",
    "                if year%400==0:\n",
    "                    leap=True\n",
    "                else:\n",
    "                    leap=False\n",
    "            else:\n",
    "                leap=True\n",
    "        else:\n",
    "            leap=False\n",
    "        if leap==True:\n",
    "            print(\"It's a leap year\")\n",
    "        else:\n",
    "            print(\"It's not a leap year\")\n",
    "    else:\n",
    "        print(\"The argument is not a valid value\")"
   ]
  },
  {
   "cell_type": "code",
   "execution_count": 12,
   "id": "ddfd7a99-fbc5-4d95-ba87-f67607f03c5e",
   "metadata": {},
   "outputs": [
    {
     "name": "stdout",
     "output_type": "stream",
     "text": [
      "It's a leap year\n"
     ]
    }
   ],
   "source": [
    "leap_year_caheck(2024)"
   ]
  }
 ],
 "metadata": {
  "kernelspec": {
   "display_name": "Python 3 (ipykernel)",
   "language": "python",
   "name": "python3"
  },
  "language_info": {
   "codemirror_mode": {
    "name": "ipython",
    "version": 3
   },
   "file_extension": ".py",
   "mimetype": "text/x-python",
   "name": "python",
   "nbconvert_exporter": "python",
   "pygments_lexer": "ipython3",
   "version": "3.11.5"
  }
 },
 "nbformat": 4,
 "nbformat_minor": 5
}
